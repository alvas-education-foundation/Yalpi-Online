{
  "nbformat": 4,
  "nbformat_minor": 0,
  "metadata": {
    "colab": {
      "name": "Python_Day5.ipynb",
      "provenance": [],
      "include_colab_link": true
    },
    "kernelspec": {
      "display_name": "Python 3",
      "language": "python",
      "name": "python3"
    },
    "language_info": {
      "codemirror_mode": {
        "name": "ipython",
        "version": 3
      },
      "file_extension": ".py",
      "mimetype": "text/x-python",
      "name": "python",
      "nbconvert_exporter": "python",
      "pygments_lexer": "ipython3",
      "version": "3.7.6"
    }
  },
  "cells": [
    {
      "cell_type": "markdown",
      "metadata": {
        "id": "view-in-github",
        "colab_type": "text"
      },
      "source": [
        "<a href=\"https://colab.research.google.com/github/alvas-education-foundation/Yalpi-Online-Courses/blob/master/Python_Day5.ipynb\" target=\"_parent\"><img src=\"https://colab.research.google.com/assets/colab-badge.svg\" alt=\"Open In Colab\"/></a>"
      ]
    },
    {
      "cell_type": "markdown",
      "metadata": {
        "colab_type": "text",
        "id": "FAHstTPZ5uib"
      },
      "source": [
        "##  Dictionaries\n",
        "\n",
        "- **Dictionary properties:** unordered, iterable, mutable, can contain multiple data types\n",
        "- Made of key-value pairs\n",
        "- Keys must be unique, and can be strings, numbers, or tuples\n",
        "- Values can be any type"
      ]
    },
    {
      "cell_type": "markdown",
      "metadata": {
        "colab_type": "text",
        "id": "yNm-dbOI5uic"
      },
      "source": [
        "### Creating a dictionary"
      ]
    },
    {
      "cell_type": "code",
      "metadata": {
        "colab_type": "code",
        "id": "sFTz4jGH5uie",
        "outputId": "befa1487-d2d9-4e17-ae19-1eef83940c9a",
        "colab": {}
      },
      "source": [
        "dict1 = {'Ed' : [12, 'leader'], 'Edd' : [ 11, 'smart'], 'Eddy' : [10, 'kind'] }\n",
        "# Notice we use flower brackets to declare a dictionary. Dictionaries have key-value pairs\n",
        "\n",
        "print(dict1) "
      ],
      "execution_count": 0,
      "outputs": [
        {
          "output_type": "stream",
          "text": [
            "{'Ed': [12, 'leader'], 'Edd': [11, 'smart'], 'Eddy': [10, 'kind']}\n"
          ],
          "name": "stdout"
        }
      ]
    },
    {
      "cell_type": "code",
      "metadata": {
        "colab_type": "code",
        "id": "sNEgSpPG5uil",
        "outputId": "fc5f722c-f576-4dcf-833c-722635f88044",
        "colab": {}
      },
      "source": [
        "dict2 = {}\n",
        "dict2['Bubbles'] = [9, 'sweet']\n",
        "dict2['Blossom'] = [10, 'leader']\n",
        "dict2['Buttercup'] = [11, 'tomboy']\n",
        "dict2"
      ],
      "execution_count": 0,
      "outputs": [
        {
          "output_type": "execute_result",
          "data": {
            "text/plain": [
              "{'Bubbles': [9, 'sweet'],\n",
              " 'Blossom': [10, 'leader'],\n",
              " 'Buttercup': [11, 'tomboy']}"
            ]
          },
          "metadata": {
            "tags": []
          },
          "execution_count": 3
        }
      ]
    },
    {
      "cell_type": "markdown",
      "metadata": {
        "colab_type": "text",
        "id": "Kf-c19PS5uiq"
      },
      "source": [
        "### Indexing a dictionary"
      ]
    },
    {
      "cell_type": "code",
      "metadata": {
        "colab_type": "code",
        "id": "cMKP52gr5uir",
        "outputId": "1cfa033a-1afd-44f1-a2ff-3dee23e4e4a7",
        "colab": {}
      },
      "source": [
        "dict2.keys()    # dict.keys() to get all the keys of the dictionary"
      ],
      "execution_count": 0,
      "outputs": [
        {
          "output_type": "execute_result",
          "data": {
            "text/plain": [
              "dict_keys(['Bubbles', 'Blossom', 'Buttercup'])"
            ]
          },
          "metadata": {
            "tags": []
          },
          "execution_count": 4
        }
      ]
    },
    {
      "cell_type": "code",
      "metadata": {
        "colab_type": "code",
        "id": "i9gXzaFu5uiw",
        "outputId": "4aaf1f60-3a65-426d-8d9a-18586760ff82",
        "colab": {}
      },
      "source": [
        "dict2.values()  # dict.values() to get all the values in the dictionary"
      ],
      "execution_count": 0,
      "outputs": [
        {
          "output_type": "execute_result",
          "data": {
            "text/plain": [
              "dict_values([[9, 'sweet'], [10, 'leader'], [11, 'tomboy']])"
            ]
          },
          "metadata": {
            "tags": []
          },
          "execution_count": 5
        }
      ]
    },
    {
      "cell_type": "code",
      "metadata": {
        "colab_type": "code",
        "id": "9s3qQhn65ui0",
        "outputId": "34cb5fb8-3652-4fd6-9a1f-6fdc112dab84",
        "colab": {}
      },
      "source": [
        "dict2['Bubbles']    # To get values of a specific key"
      ],
      "execution_count": 0,
      "outputs": [
        {
          "output_type": "execute_result",
          "data": {
            "text/plain": [
              "[9, 'sweet']"
            ]
          },
          "metadata": {
            "tags": []
          },
          "execution_count": 6
        }
      ]
    },
    {
      "cell_type": "code",
      "metadata": {
        "colab_type": "code",
        "id": "QNHAtYPB5ui2",
        "outputId": "00f4e470-cabc-4252-e9dc-eac4a1f932e7",
        "colab": {}
      },
      "source": [
        "# convert a list of tuples into a dictionary\n",
        "list_of_tuples = [('dad', 'homer'), ('mom', 'marge'), ('size', 6)]\n",
        "family = dict(list_of_tuples)\n",
        "family"
      ],
      "execution_count": 0,
      "outputs": [
        {
          "output_type": "execute_result",
          "data": {
            "text/plain": [
              "{'dad': 'homer', 'mom': 'marge', 'size': 6}"
            ]
          },
          "metadata": {
            "tags": []
          },
          "execution_count": 7
        }
      ]
    },
    {
      "cell_type": "markdown",
      "metadata": {
        "colab_type": "text",
        "id": "1GQnYQmq5ui5"
      },
      "source": [
        "**Examine a dictionary:**"
      ]
    },
    {
      "cell_type": "code",
      "metadata": {
        "colab_type": "code",
        "id": "rNJ9lWJA5ui6",
        "outputId": "0dd2a782-50fe-470e-9baf-245f1bf77ff0",
        "colab": {}
      },
      "source": [
        "# pass a key to return its value\n",
        "family['dad']"
      ],
      "execution_count": 0,
      "outputs": [
        {
          "output_type": "execute_result",
          "data": {
            "text/plain": [
              "'homer'"
            ]
          },
          "metadata": {
            "tags": []
          },
          "execution_count": 8
        }
      ]
    },
    {
      "cell_type": "code",
      "metadata": {
        "colab_type": "code",
        "id": "GK2aYHDa5ui8",
        "outputId": "53e03959-a96a-4080-e860-4244c2dee722",
        "colab": {}
      },
      "source": [
        "# return the number of key-value pairs\n",
        "len(family)"
      ],
      "execution_count": 0,
      "outputs": [
        {
          "output_type": "execute_result",
          "data": {
            "text/plain": [
              "3"
            ]
          },
          "metadata": {
            "tags": []
          },
          "execution_count": 9
        }
      ]
    },
    {
      "cell_type": "code",
      "metadata": {
        "colab_type": "code",
        "id": "FtdDnJDF5ui_",
        "outputId": "5aa04dfb-63b8-4408-cae3-a09ec83f38b6",
        "colab": {}
      },
      "source": [
        "# check if key exists in dictionary\n",
        "'mom' in family"
      ],
      "execution_count": 0,
      "outputs": [
        {
          "output_type": "execute_result",
          "data": {
            "text/plain": [
              "True"
            ]
          },
          "metadata": {
            "tags": []
          },
          "execution_count": 10
        }
      ]
    },
    {
      "cell_type": "code",
      "metadata": {
        "colab_type": "code",
        "id": "jDPysJP95ujD",
        "outputId": "c1945ee0-e311-4154-c458-2d29d942efd7",
        "colab": {}
      },
      "source": [
        "# dictionary values are not checked\n",
        "'marge' in family"
      ],
      "execution_count": 0,
      "outputs": [
        {
          "output_type": "execute_result",
          "data": {
            "text/plain": [
              "False"
            ]
          },
          "metadata": {
            "tags": []
          },
          "execution_count": 11
        }
      ]
    },
    {
      "cell_type": "code",
      "metadata": {
        "colab_type": "code",
        "id": "2dFPw36_5ujH",
        "outputId": "5adfe486-32a7-4171-8b95-e17b0fe27b8a",
        "colab": {}
      },
      "source": [
        "# returns a list of keys (Python 2) or an iterable view (Python 3)\n",
        "family.keys()"
      ],
      "execution_count": 0,
      "outputs": [
        {
          "output_type": "execute_result",
          "data": {
            "text/plain": [
              "dict_keys(['dad', 'mom', 'size'])"
            ]
          },
          "metadata": {
            "tags": []
          },
          "execution_count": 12
        }
      ]
    },
    {
      "cell_type": "code",
      "metadata": {
        "colab_type": "code",
        "id": "1j0AZN885ujK",
        "outputId": "7306b322-8bca-4870-f07c-97e3cab96d0a",
        "colab": {}
      },
      "source": [
        "# returns a list of values (Python 2) or an iterable view (Python 3)\n",
        "family.values()"
      ],
      "execution_count": 0,
      "outputs": [
        {
          "output_type": "execute_result",
          "data": {
            "text/plain": [
              "dict_values(['homer', 'marge', 6])"
            ]
          },
          "metadata": {
            "tags": []
          },
          "execution_count": 13
        }
      ]
    },
    {
      "cell_type": "code",
      "metadata": {
        "colab_type": "code",
        "id": "xKwLdWMG5ujM",
        "outputId": "1438b5de-021b-4110-afb4-e618c862ae5c",
        "colab": {}
      },
      "source": [
        "# returns a list of key-value pairs (Python 2) or an iterable view (Python 3)\n",
        "family.items()"
      ],
      "execution_count": 0,
      "outputs": [
        {
          "output_type": "execute_result",
          "data": {
            "text/plain": [
              "dict_items([('dad', 'homer'), ('mom', 'marge'), ('size', 6)])"
            ]
          },
          "metadata": {
            "tags": []
          },
          "execution_count": 14
        }
      ]
    },
    {
      "cell_type": "markdown",
      "metadata": {
        "colab_type": "text",
        "id": "HSY8fLdJ5ujR"
      },
      "source": [
        "**Modify a dictionary (does not return the dictionary):**"
      ]
    },
    {
      "cell_type": "code",
      "metadata": {
        "colab_type": "code",
        "id": "tph-pIiY5ujS",
        "outputId": "8a2b2325-018a-4125-de8d-14373fa321d6",
        "colab": {}
      },
      "source": [
        "# add a new entry\n",
        "family['cat'] = 'snowball'\n",
        "family"
      ],
      "execution_count": 0,
      "outputs": [
        {
          "output_type": "execute_result",
          "data": {
            "text/plain": [
              "{'dad': 'homer', 'mom': 'marge', 'size': 6, 'cat': 'snowball'}"
            ]
          },
          "metadata": {
            "tags": []
          },
          "execution_count": 15
        }
      ]
    },
    {
      "cell_type": "code",
      "metadata": {
        "colab_type": "code",
        "id": "CMH9sRNf5ujX",
        "outputId": "6df55a9c-392d-4fe8-a060-d8f78a7a0749",
        "colab": {}
      },
      "source": [
        "# edit an existing entry\n",
        "family['cat'] = 'snowball ii'\n",
        "family"
      ],
      "execution_count": 0,
      "outputs": [
        {
          "output_type": "execute_result",
          "data": {
            "text/plain": [
              "{'dad': 'homer', 'mom': 'marge', 'size': 6, 'cat': 'snowball ii'}"
            ]
          },
          "metadata": {
            "tags": []
          },
          "execution_count": 16
        }
      ]
    },
    {
      "cell_type": "code",
      "metadata": {
        "colab_type": "code",
        "id": "Vml_RpvP5ujZ",
        "outputId": "5cced66d-e10b-4a12-d733-7f626c250172",
        "colab": {}
      },
      "source": [
        "# delete an entry\n",
        "del family['cat']\n",
        "family"
      ],
      "execution_count": 0,
      "outputs": [
        {
          "output_type": "execute_result",
          "data": {
            "text/plain": [
              "{'dad': 'homer', 'mom': 'marge', 'size': 6}"
            ]
          },
          "metadata": {
            "tags": []
          },
          "execution_count": 17
        }
      ]
    },
    {
      "cell_type": "code",
      "metadata": {
        "colab_type": "code",
        "id": "e4_HC6Yn5ujd",
        "outputId": "bfcc3d85-bc3b-4f3f-c5a1-32a09aae8588",
        "colab": {}
      },
      "source": [
        "# dictionary value can be a list\n",
        "family['kids'] = ['bart', 'lisa']\n",
        "family"
      ],
      "execution_count": 0,
      "outputs": [
        {
          "output_type": "execute_result",
          "data": {
            "text/plain": [
              "{'dad': 'homer', 'mom': 'marge', 'size': 6, 'kids': ['bart', 'lisa']}"
            ]
          },
          "metadata": {
            "tags": []
          },
          "execution_count": 18
        }
      ]
    },
    {
      "cell_type": "code",
      "metadata": {
        "colab_type": "code",
        "id": "hQpN40Wk5ujl",
        "outputId": "fb28c1ae-b8a2-4fde-cc1e-c8f1fc04d375",
        "colab": {}
      },
      "source": [
        "# remove an entry and return the value\n",
        "family.pop('dad')"
      ],
      "execution_count": 0,
      "outputs": [
        {
          "output_type": "execute_result",
          "data": {
            "text/plain": [
              "'homer'"
            ]
          },
          "metadata": {
            "tags": []
          },
          "execution_count": 19
        }
      ]
    },
    {
      "cell_type": "code",
      "metadata": {
        "colab_type": "code",
        "id": "f_1pzj7T5ujn",
        "outputId": "8e03283f-ccd6-472c-af19-ce5bcc04b9bb",
        "colab": {}
      },
      "source": [
        "# add multiple entries\n",
        "family.update({'baby':'maggie', 'grandpa':'abe'})\n",
        "family"
      ],
      "execution_count": 0,
      "outputs": [
        {
          "output_type": "execute_result",
          "data": {
            "text/plain": [
              "{'mom': 'marge',\n",
              " 'size': 6,\n",
              " 'kids': ['bart', 'lisa'],\n",
              " 'baby': 'maggie',\n",
              " 'grandpa': 'abe'}"
            ]
          },
          "metadata": {
            "tags": []
          },
          "execution_count": 20
        }
      ]
    },
    {
      "cell_type": "markdown",
      "metadata": {
        "colab_type": "text",
        "id": "YLKvnl9l5ujq"
      },
      "source": [
        "**Access values more safely with `get`:**"
      ]
    },
    {
      "cell_type": "code",
      "metadata": {
        "colab_type": "code",
        "id": "vp62LrkV5ujr",
        "outputId": "c47b4532-38ee-423e-886a-cd8c9262f308",
        "colab": {}
      },
      "source": [
        "family['mom']"
      ],
      "execution_count": 0,
      "outputs": [
        {
          "output_type": "execute_result",
          "data": {
            "text/plain": [
              "'marge'"
            ]
          },
          "metadata": {
            "tags": []
          },
          "execution_count": 21
        }
      ]
    },
    {
      "cell_type": "code",
      "metadata": {
        "colab_type": "code",
        "id": "l_F58smc5ujv",
        "outputId": "f5d53256-b30b-449b-9cbd-009839365bdf",
        "colab": {}
      },
      "source": [
        "# equivalent to a dictionary lookup\n",
        "family.get('mom')"
      ],
      "execution_count": 0,
      "outputs": [
        {
          "output_type": "execute_result",
          "data": {
            "text/plain": [
              "'marge'"
            ]
          },
          "metadata": {
            "tags": []
          },
          "execution_count": 22
        }
      ]
    },
    {
      "cell_type": "code",
      "metadata": {
        "colab_type": "code",
        "id": "9hupEicO5ujy",
        "colab": {}
      },
      "source": [
        "# this would throw an error since the key does not exist\n",
        "# family['grandma']\n",
        "\n",
        "# return None if not found\n",
        "family.get('grandma')"
      ],
      "execution_count": 0,
      "outputs": []
    },
    {
      "cell_type": "code",
      "metadata": {
        "colab_type": "code",
        "id": "hbHaS2BF5uj0",
        "outputId": "f645795d-6691-4a58-af6d-384f3afb691f",
        "colab": {}
      },
      "source": [
        "# provide a default return value if not found\n",
        "family.get('grandma', 'not found')"
      ],
      "execution_count": 0,
      "outputs": [
        {
          "output_type": "execute_result",
          "data": {
            "text/plain": [
              "'not found'"
            ]
          },
          "metadata": {
            "tags": []
          },
          "execution_count": 24
        }
      ]
    },
    {
      "cell_type": "markdown",
      "metadata": {
        "colab_type": "text",
        "id": "NuQ8aGKT5uj3"
      },
      "source": [
        "**Access a list element within a dictionary:**"
      ]
    },
    {
      "cell_type": "code",
      "metadata": {
        "colab_type": "code",
        "id": "7Ytd5k7I5uj4",
        "outputId": "62470b09-4942-418e-fb7e-0fdf4b75bffc",
        "colab": {}
      },
      "source": [
        "family['kids'][0]\n",
        "\n",
        "family['kids'].remove('lisa')\n",
        "family"
      ],
      "execution_count": 0,
      "outputs": [
        {
          "output_type": "execute_result",
          "data": {
            "text/plain": [
              "{'mom': 'marge',\n",
              " 'size': 6,\n",
              " 'kids': ['bart'],\n",
              " 'baby': 'maggie',\n",
              " 'grandpa': 'abe'}"
            ]
          },
          "metadata": {
            "tags": []
          },
          "execution_count": 25
        }
      ]
    }
  ]
}