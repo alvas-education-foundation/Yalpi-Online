{
  "nbformat": 4,
  "nbformat_minor": 0,
  "metadata": {
    "kernelspec": {
      "display_name": "Python 3",
      "language": "python",
      "name": "python3"
    },
    "language_info": {
      "codemirror_mode": {
        "name": "ipython",
        "version": 3
      },
      "file_extension": ".py",
      "mimetype": "text/x-python",
      "name": "python",
      "nbconvert_exporter": "python",
      "pygments_lexer": "ipython3",
      "version": "3.7.3"
    },
    "colab": {
      "name": "Python_day4.ipynb",
      "provenance": [],
      "collapsed_sections": [
        "fIA2RtCF5uhX"
      ],
      "include_colab_link": true
    }
  },
  "cells": [
    {
      "cell_type": "markdown",
      "metadata": {
        "id": "view-in-github",
        "colab_type": "text"
      },
      "source": [
        "<a href=\"https://colab.research.google.com/github/alvas-education-foundation/Yalpi-Online-Courses/blob/master/Python_day4.ipynb\" target=\"_parent\"><img src=\"https://colab.research.google.com/assets/colab-badge.svg\" alt=\"Open In Colab\"/></a>"
      ]
    },
    {
      "cell_type": "markdown",
      "metadata": {
        "id": "RldhoE765ugU",
        "colab_type": "text"
      },
      "source": [
        "# Data Structures"
      ]
    },
    {
      "cell_type": "markdown",
      "metadata": {
        "id": "CIQkCKS25ugY",
        "colab_type": "text"
      },
      "source": [
        "## Lists\n",
        "\n",
        "- **List properties:** ordered, iterable, mutable, can contain multiple data types"
      ]
    },
    {
      "cell_type": "markdown",
      "metadata": {
        "id": "Y0gkuky_5ugb",
        "colab_type": "text"
      },
      "source": [
        "### Creating a list"
      ]
    },
    {
      "cell_type": "code",
      "metadata": {
        "id": "hXdGUOiH5uge",
        "colab_type": "code",
        "outputId": "acdba083-dd4c-4cdb-9c0d-4c8ea965ea72",
        "colab": {
          "base_uri": "https://localhost:8080/",
          "height": 34
        }
      },
      "source": [
        "list1 = [0,1,2,3,4]   # notice we use square brackets\n",
        "\n",
        "list2 = list('Hello')  # Passing a string to the list function gives a list of individual letters\n",
        "print(list1, list2)"
      ],
      "execution_count": 1,
      "outputs": [
        {
          "output_type": "stream",
          "text": [
            "[0, 1, 2, 3, 4] ['H', 'e', 'l', 'l', 'o']\n"
          ],
          "name": "stdout"
        }
      ]
    },
    {
      "cell_type": "markdown",
      "metadata": {
        "id": "cH5U_raj5ugk",
        "colab_type": "text"
      },
      "source": [
        "### Methods one can use with lists"
      ]
    },
    {
      "cell_type": "code",
      "metadata": {
        "id": "HDRwhQVq5ugl",
        "colab_type": "code",
        "outputId": "e164f8a1-f5f0-4d10-c7d8-3cab7b3d05bd",
        "colab": {
          "base_uri": "https://localhost:8080/",
          "height": 34
        }
      },
      "source": [
        "list1.append(5)   # list.appen() is a method to add an element to the existing elements to a list\n",
        "print(list1)"
      ],
      "execution_count": 2,
      "outputs": [
        {
          "output_type": "stream",
          "text": [
            "[0, 1, 2, 3, 4, 5]\n"
          ],
          "name": "stdout"
        }
      ]
    },
    {
      "cell_type": "code",
      "metadata": {
        "id": "NEWF5Iqr5ugr",
        "colab_type": "code",
        "outputId": "0dcd96b7-4884-49a9-f978-bf8de33f5071",
        "colab": {
          "base_uri": "https://localhost:8080/",
          "height": 34
        }
      },
      "source": [
        "list1.clear()  # list.clear() removes all the elements of the list\n",
        "print(list1)"
      ],
      "execution_count": 3,
      "outputs": [
        {
          "output_type": "stream",
          "text": [
            "[]\n"
          ],
          "name": "stdout"
        }
      ]
    },
    {
      "cell_type": "code",
      "metadata": {
        "id": "UrsNr-_25ugw",
        "colab_type": "code",
        "outputId": "d4a3c80c-9619-492a-efb2-5833981abcce",
        "colab": {
          "base_uri": "https://localhost:8080/",
          "height": 34
        }
      },
      "source": [
        "list3 = list2.copy()  # list.copy() returns a copy of the list\n",
        "print(list3)"
      ],
      "execution_count": 4,
      "outputs": [
        {
          "output_type": "stream",
          "text": [
            "['H', 'e', 'l', 'l', 'o']\n"
          ],
          "name": "stdout"
        }
      ]
    },
    {
      "cell_type": "code",
      "metadata": {
        "id": "OjQwp4Qz5ug0",
        "colab_type": "code",
        "outputId": "c0532d51-6433-43e9-e79b-a3643c994651",
        "colab": {
          "base_uri": "https://localhost:8080/",
          "height": 34
        }
      },
      "source": [
        "number_of_l = list3.count('l')   # returns the number of times a certain value occurs\n",
        "print(number_of_l)"
      ],
      "execution_count": 5,
      "outputs": [
        {
          "output_type": "stream",
          "text": [
            "2\n"
          ],
          "name": "stdout"
        }
      ]
    },
    {
      "cell_type": "code",
      "metadata": {
        "id": "kFZKLDL45ug3",
        "colab_type": "code",
        "outputId": "31aaf639-0a96-4ae6-ec40-79f8ff92b6b3",
        "colab": {
          "base_uri": "https://localhost:8080/",
          "height": 34
        }
      },
      "source": [
        "list3.extend(list2)  # Extend one list using another list\n",
        "print(list3)"
      ],
      "execution_count": 6,
      "outputs": [
        {
          "output_type": "stream",
          "text": [
            "['H', 'e', 'l', 'l', 'o', 'H', 'e', 'l', 'l', 'o']\n"
          ],
          "name": "stdout"
        }
      ]
    },
    {
      "cell_type": "code",
      "metadata": {
        "id": "pvy5SXyH5ug8",
        "colab_type": "code",
        "outputId": "df1e787e-bbf2-4f3e-9a54-e4f97f125592",
        "colab": {
          "base_uri": "https://localhost:8080/",
          "height": 34
        }
      },
      "source": [
        "list3.index('o')   # list3.index() returns the index of an element in the list\n",
        "#If there are multiple entries of the same element multiple times, the method returns the first occurance"
      ],
      "execution_count": 7,
      "outputs": [
        {
          "output_type": "execute_result",
          "data": {
            "text/plain": [
              "4"
            ]
          },
          "metadata": {
            "tags": []
          },
          "execution_count": 7
        }
      ]
    },
    {
      "cell_type": "code",
      "metadata": {
        "id": "qfjRfSRL5uhB",
        "colab_type": "code",
        "outputId": "9bebcef6-2984-4896-95d2-a95bb223233f",
        "colab": {
          "base_uri": "https://localhost:8080/",
          "height": 34
        }
      },
      "source": [
        "list3.insert(3, 4)   # list.index() Insert an elemtent at a specific location\n",
        "print(list3)"
      ],
      "execution_count": 8,
      "outputs": [
        {
          "output_type": "stream",
          "text": [
            "['H', 'e', 'l', 4, 'l', 'o', 'H', 'e', 'l', 'l', 'o']\n"
          ],
          "name": "stdout"
        }
      ]
    },
    {
      "cell_type": "code",
      "metadata": {
        "id": "of4e6tE-5uhG",
        "colab_type": "code",
        "outputId": "fec6032e-626d-4652-a6a8-f40a685a1bcd",
        "colab": {
          "base_uri": "https://localhost:8080/",
          "height": 34
        }
      },
      "source": [
        "list3.pop(3)   # list.pop() removes an element and returns the element specified by its index location\n"
      ],
      "execution_count": 9,
      "outputs": [
        {
          "output_type": "execute_result",
          "data": {
            "text/plain": [
              "4"
            ]
          },
          "metadata": {
            "tags": []
          },
          "execution_count": 9
        }
      ]
    },
    {
      "cell_type": "code",
      "metadata": {
        "id": "sW70I4rN5uhK",
        "colab_type": "code",
        "outputId": "754729c7-ded6-44e6-c6a1-3d52d1840932",
        "colab": {
          "base_uri": "https://localhost:8080/",
          "height": 34
        }
      },
      "source": [
        "list3.remove('H')   # list.remove() removes an element from the list. If there are multiple occurances, it removes the first one\n",
        "print(list3)"
      ],
      "execution_count": 10,
      "outputs": [
        {
          "output_type": "stream",
          "text": [
            "['e', 'l', 'l', 'o', 'H', 'e', 'l', 'l', 'o']\n"
          ],
          "name": "stdout"
        }
      ]
    },
    {
      "cell_type": "code",
      "metadata": {
        "id": "b17ry4Ay5uhQ",
        "colab_type": "code",
        "outputId": "83690d09-2777-4f8f-f049-6a1699dbee5a",
        "colab": {
          "base_uri": "https://localhost:8080/",
          "height": 34
        }
      },
      "source": [
        "list3.reverse()  # list.reverse() reverses the list\n",
        "print(list3)"
      ],
      "execution_count": 11,
      "outputs": [
        {
          "output_type": "stream",
          "text": [
            "['o', 'l', 'l', 'e', 'H', 'o', 'l', 'l', 'e']\n"
          ],
          "name": "stdout"
        }
      ]
    },
    {
      "cell_type": "code",
      "metadata": {
        "id": "V-pxxjHV5uhT",
        "colab_type": "code",
        "outputId": "255c09c8-a60e-4233-c30f-4b1ca91161ec",
        "colab": {
          "base_uri": "https://localhost:8080/",
          "height": 34
        }
      },
      "source": [
        "list3.sort()  # list.sort() sorts the list in alphabetical order and incase of numbers, it sorts in ascending order\n",
        "print(list3)"
      ],
      "execution_count": 12,
      "outputs": [
        {
          "output_type": "stream",
          "text": [
            "['H', 'e', 'e', 'l', 'l', 'l', 'l', 'o', 'o']\n"
          ],
          "name": "stdout"
        }
      ]
    },
    {
      "cell_type": "markdown",
      "metadata": {
        "id": "fIA2RtCF5uhX",
        "colab_type": "text"
      },
      "source": [
        "### Indexing a list"
      ]
    },
    {
      "cell_type": "code",
      "metadata": {
        "id": "HqTRcU-y5uhY",
        "colab_type": "code",
        "outputId": "b796f6a0-ee52-4140-af7a-c5f6eb178f99",
        "colab": {
          "base_uri": "https://localhost:8080/",
          "height": 0
        }
      },
      "source": [
        "list3[2]   # Mention the index of the element to be extracted"
      ],
      "execution_count": 13,
      "outputs": [
        {
          "output_type": "execute_result",
          "data": {
            "text/plain": [
              "'e'"
            ]
          },
          "metadata": {
            "tags": []
          },
          "execution_count": 13
        }
      ]
    },
    {
      "cell_type": "code",
      "metadata": {
        "id": "MeWFH7tG5uhc",
        "colab_type": "code",
        "outputId": "ba1dbc31-0645-4f5b-a1fd-b0e636f80716",
        "colab": {
          "base_uri": "https://localhost:8080/",
          "height": 0
        }
      },
      "source": [
        "list3[-2]  # Python has negative indexing"
      ],
      "execution_count": 14,
      "outputs": [
        {
          "output_type": "execute_result",
          "data": {
            "text/plain": [
              "'o'"
            ]
          },
          "metadata": {
            "tags": []
          },
          "execution_count": 14
        }
      ]
    },
    {
      "cell_type": "code",
      "metadata": {
        "id": "gEwMYAyj5uhh",
        "colab_type": "code",
        "outputId": "c51062bb-c74a-4fb4-e615-3720f6891622",
        "colab": {
          "base_uri": "https://localhost:8080/",
          "height": 0
        }
      },
      "source": [
        "list3[2:5]   # Extract a slice of the list from position 2 to 5. Notice that "
      ],
      "execution_count": 15,
      "outputs": [
        {
          "output_type": "execute_result",
          "data": {
            "text/plain": [
              "['e', 'l', 'l']"
            ]
          },
          "metadata": {
            "tags": []
          },
          "execution_count": 15
        }
      ]
    },
    {
      "cell_type": "code",
      "metadata": {
        "id": "IrkhdB7T5uhk",
        "colab_type": "code",
        "outputId": "6ee88f43-f1ae-47a7-81d4-b579f014e4e7",
        "colab": {
          "base_uri": "https://localhost:8080/",
          "height": 0
        }
      },
      "source": [
        "list3[:-2]  # All elements from the start until the 3rd element from the end"
      ],
      "execution_count": 16,
      "outputs": [
        {
          "output_type": "execute_result",
          "data": {
            "text/plain": [
              "['H', 'e', 'e', 'l', 'l', 'l', 'l']"
            ]
          },
          "metadata": {
            "tags": []
          },
          "execution_count": 16
        }
      ]
    },
    {
      "cell_type": "code",
      "metadata": {
        "id": "qxmQalNX5uhn",
        "colab_type": "code",
        "outputId": "1f3a32ce-205c-4b95-9620-97a4a682115f",
        "colab": {
          "base_uri": "https://localhost:8080/",
          "height": 0
        }
      },
      "source": [
        "list3[::2] #The format is list[start : end : step] \n",
        "# Since we have given step as 2, it takes every element which is a multiple of 2"
      ],
      "execution_count": 17,
      "outputs": [
        {
          "output_type": "execute_result",
          "data": {
            "text/plain": [
              "['H', 'e', 'l', 'l', 'o']"
            ]
          },
          "metadata": {
            "tags": []
          },
          "execution_count": 17
        }
      ]
    },
    {
      "cell_type": "markdown",
      "metadata": {
        "id": "50XehpU45uhq",
        "colab_type": "text"
      },
      "source": [
        "## Tuples\n",
        "\n",
        "- **Tuple properties:** ordered, iterable, immutable, can contain multiple data types\n",
        "- Like lists, but they don't change size"
      ]
    },
    {
      "cell_type": "code",
      "metadata": {
        "id": "V3LxpBp85uht",
        "colab_type": "code",
        "outputId": "501d7f52-e82e-46eb-c490-9bf86264e782",
        "colab": {
          "base_uri": "https://localhost:8080/",
          "height": 34
        }
      },
      "source": [
        "# create a tuple directly\n",
        "digits = (0, 1, 'two')\n",
        "digits"
      ],
      "execution_count": 18,
      "outputs": [
        {
          "output_type": "execute_result",
          "data": {
            "text/plain": [
              "(0, 1, 'two')"
            ]
          },
          "metadata": {
            "tags": []
          },
          "execution_count": 18
        }
      ]
    },
    {
      "cell_type": "code",
      "metadata": {
        "id": "sq-CNRJ95uhy",
        "colab_type": "code",
        "outputId": "8002bcfa-936b-4cdf-f121-3264f158c8b9",
        "colab": {
          "base_uri": "https://localhost:8080/",
          "height": 34
        }
      },
      "source": [
        "# create a tuple from a list\n",
        "digits = tuple([0, 1, 'two'])\n",
        "digits"
      ],
      "execution_count": 19,
      "outputs": [
        {
          "output_type": "execute_result",
          "data": {
            "text/plain": [
              "(0, 1, 'two')"
            ]
          },
          "metadata": {
            "tags": []
          },
          "execution_count": 19
        }
      ]
    },
    {
      "cell_type": "code",
      "metadata": {
        "id": "--Mm_OUn5uh6",
        "colab_type": "code",
        "colab": {}
      },
      "source": [
        "# trailing comma is required to indicate it's a tuple\n",
        "zero = (0,)"
      ],
      "execution_count": 0,
      "outputs": []
    },
    {
      "cell_type": "markdown",
      "metadata": {
        "id": "_IpgTYww5uiC",
        "colab_type": "text"
      },
      "source": [
        "**Examine a tuple:**"
      ]
    },
    {
      "cell_type": "code",
      "metadata": {
        "id": "phm8k-Nr5uiD",
        "colab_type": "code",
        "outputId": "27a2f5a6-3ada-4e10-d048-b53a7f9b1f1d",
        "colab": {
          "base_uri": "https://localhost:8080/",
          "height": 34
        }
      },
      "source": [
        "digits[2]\n",
        "\n",
        "len(digits)"
      ],
      "execution_count": 21,
      "outputs": [
        {
          "output_type": "execute_result",
          "data": {
            "text/plain": [
              "3"
            ]
          },
          "metadata": {
            "tags": []
          },
          "execution_count": 21
        }
      ]
    },
    {
      "cell_type": "code",
      "metadata": {
        "id": "ociI86l55uiG",
        "colab_type": "code",
        "outputId": "2a60381f-ed9c-4b37-bb30-26919345bed0",
        "colab": {
          "base_uri": "https://localhost:8080/",
          "height": 34
        }
      },
      "source": [
        "# counts the number of instances of that value\n",
        "digits.count(0)"
      ],
      "execution_count": 22,
      "outputs": [
        {
          "output_type": "execute_result",
          "data": {
            "text/plain": [
              "1"
            ]
          },
          "metadata": {
            "tags": []
          },
          "execution_count": 22
        }
      ]
    },
    {
      "cell_type": "code",
      "metadata": {
        "id": "YOVVq5aa5uiI",
        "colab_type": "code",
        "outputId": "4f969726-dda1-44c5-cf52-a94464b92b58",
        "colab": {
          "base_uri": "https://localhost:8080/",
          "height": 34
        }
      },
      "source": [
        "# returns the index of the first instance of that value\n",
        "digits.index(1)"
      ],
      "execution_count": 23,
      "outputs": [
        {
          "output_type": "execute_result",
          "data": {
            "text/plain": [
              "1"
            ]
          },
          "metadata": {
            "tags": []
          },
          "execution_count": 23
        }
      ]
    },
    {
      "cell_type": "markdown",
      "metadata": {
        "id": "f61jxNMU5uiM",
        "colab_type": "text"
      },
      "source": [
        "**Modify a tuple:**"
      ]
    },
    {
      "cell_type": "code",
      "metadata": {
        "id": "pHHnmuu85uiO",
        "colab_type": "code",
        "outputId": "64072aeb-9336-4acf-905f-f5696e315adf",
        "colab": {
          "base_uri": "https://localhost:8080/",
          "height": 34
        }
      },
      "source": [
        "# elements of a tuple cannot be modified (this would throw an error)\n",
        "# digits[2] = 2\n",
        "\n",
        "# concatenate tuples\n",
        "digits = digits + (3, 4)\n",
        "digits"
      ],
      "execution_count": 24,
      "outputs": [
        {
          "output_type": "execute_result",
          "data": {
            "text/plain": [
              "(0, 1, 'two', 3, 4)"
            ]
          },
          "metadata": {
            "tags": []
          },
          "execution_count": 24
        }
      ]
    },
    {
      "cell_type": "markdown",
      "metadata": {
        "id": "SWnpj3Q_5uiS",
        "colab_type": "text"
      },
      "source": [
        "**Other tuple operations:**"
      ]
    },
    {
      "cell_type": "code",
      "metadata": {
        "id": "II3-3NoS5uiT",
        "colab_type": "code",
        "outputId": "e20828cd-2af7-4508-cbfa-6d403d448ee4",
        "colab": {
          "base_uri": "https://localhost:8080/",
          "height": 34
        }
      },
      "source": [
        "# create a single tuple with elements repeated (also works with lists)\n",
        "(3, 4) * 2"
      ],
      "execution_count": 25,
      "outputs": [
        {
          "output_type": "execute_result",
          "data": {
            "text/plain": [
              "(3, 4, 3, 4)"
            ]
          },
          "metadata": {
            "tags": []
          },
          "execution_count": 25
        }
      ]
    },
    {
      "cell_type": "code",
      "metadata": {
        "id": "NDNNIgHC5uiW",
        "colab_type": "code",
        "outputId": "387fb804-2706-42ed-f397-fd74f2373306",
        "colab": {
          "base_uri": "https://localhost:8080/",
          "height": 34
        }
      },
      "source": [
        "# sort a list of tuples\n",
        "tens = [(20, 60), (10, 40), (20, 30)]\n",
        "sorted(tens)    # sorts by first element in tuple, then second element"
      ],
      "execution_count": 26,
      "outputs": [
        {
          "output_type": "execute_result",
          "data": {
            "text/plain": [
              "[(10, 40), (20, 30), (20, 60)]"
            ]
          },
          "metadata": {
            "tags": []
          },
          "execution_count": 26
        }
      ]
    },
    {
      "cell_type": "code",
      "metadata": {
        "id": "mhBVxROx5uiY",
        "colab_type": "code",
        "outputId": "e717917d-1283-4439-891c-7b748f786747",
        "colab": {
          "base_uri": "https://localhost:8080/",
          "height": 67
        }
      },
      "source": [
        "# tuple unpacking\n",
        "bart = ('male', 10, 'simpson')    # create a tuple\n",
        "(sex, age, surname) = bart        # assign three values at once\n",
        "print(sex)\n",
        "print(age)\n",
        "print(surname)"
      ],
      "execution_count": 27,
      "outputs": [
        {
          "output_type": "stream",
          "text": [
            "male\n",
            "10\n",
            "simpson\n"
          ],
          "name": "stdout"
        }
      ]
    }
  ]
}